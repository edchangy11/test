{
 "cells": [
  {
   "cell_type": "code",
   "execution_count": 1,
   "metadata": {},
   "outputs": [],
   "source": [
    "%matplotlib inline\n",
    "import numpy as np\n",
    "from sklearn import base, linear_model, datasets, preprocessing\n",
    "from sympy import var, exp, plot, diff, solve, tanh, functions, stats\n",
    "import enum\n",
    "from typing import List, Callable\n",
    "from toolz import pipe\n",
    "\n",
    "import matplotlib.pyplot as plt\n",
    "Tensor = np.array\n",
    "\n",
    "import netdraw as netdraw"
   ]
  },
  {
   "cell_type": "code",
   "execution_count": 2,
   "metadata": {},
   "outputs": [],
   "source": [
    "X = np.array([[0,0],\n",
    "              [0,1],\n",
    "              [1,0],\n",
    "              [1,1]])\n",
    "\n",
    "Y = np.array([[0,1,1,0]]).T\n",
    "\n",
    "sig = lambda z: 1 / (1 + np.exp(-z))\n",
    "sig_prime = lambda z: z * (1-z)"
   ]
  },
  {
   "cell_type": "code",
   "execution_count": 3,
   "metadata": {},
   "outputs": [
    {
     "data": {
      "text/plain": [
       "<matplotlib.collections.PathCollection at 0x7f6a5860c240>"
      ]
     },
     "execution_count": 3,
     "metadata": {},
     "output_type": "execute_result"
    },
    {
     "data": {
      "image/png": "[encoded data removed]",
      "text/plain": [
       "<Figure size 432x288 with 1 Axes>"
      ]
     },
     "metadata": {},
     "output_type": "display_data"
    }
   ],
   "source": [
    "plt.scatter(X[[0,3],0],X[[0,3],1], marker='^', )\n",
    "plt.scatter(X[[1,2],0],X[[1,2],1], marker='o', )"
   ]
  },
  {
   "cell_type": "code",
   "execution_count": 4,
   "metadata": {
    "scrolled": true
   },
   "outputs": [
    {
     "data": {
      "text/plain": [
       "array([[0.5],\n",
       "       [0.5],\n",
       "       [0.5],\n",
       "       [0.5]])"
      ]
     },
     "execution_count": 4,
     "metadata": {},
     "output_type": "execute_result"
    }
   ],
   "source": [
    "lm = linear_model.LinearRegression().fit(X,Y)\n",
    "lm.predict(X).reshape(-1,1)"
   ]
  },
  {
   "cell_type": "code",
   "execution_count": 5,
   "metadata": {},
   "outputs": [
    {
     "data": {
      "text/plain": [
       "array([[0],\n",
       "       [0],\n",
       "       [0],\n",
       "       [0]])"
      ]
     },
     "execution_count": 5,
     "metadata": {},
     "output_type": "execute_result"
    }
   ],
   "source": [
    "clf = linear_model.LogisticRegression(random_state=0, solver='lbfgs',\n",
    "                         multi_class='multinomial').fit(X, np.ravel(Y))\n",
    "clf.predict(X).reshape(-1,1)"
   ]
  },
  {
   "cell_type": "code",
   "execution_count": 6,
   "metadata": {},
   "outputs": [
    {
     "data": {
      "text/plain": [
       "array([[0, 1, 1, 0]])"
      ]
     },
     "execution_count": 6,
     "metadata": {},
     "output_type": "execute_result"
    }
   ],
   "source": [
    "def aux(X):\n",
    "    return X.sum(axis=1)[None].T % 2\n",
    "X[:, :2].sum(axis=1)[None] %2\n",
    "# can do feature extraction if we know about the data"
   ]
  },
  {
   "cell_type": "code",
   "execution_count": 7,
   "metadata": {
    "scrolled": true
   },
   "outputs": [
    {
     "data": {
      "text/plain": [
       "array([0, 1, 1, 0])"
      ]
     },
     "execution_count": 7,
     "metadata": {},
     "output_type": "execute_result"
    }
   ],
   "source": [
    "clf = linear_model.LogisticRegression(random_state=0, solver='lbfgs',\n",
    "                         multi_class='multinomial').fit(aux(X), np.ravel(Y))\n",
    "clf.predict(aux(X).reshape(-1,1))"
   ]
  },
  {
   "cell_type": "code",
   "execution_count": 8,
   "metadata": {
    "scrolled": true
   },
   "outputs": [
    {
     "data": {
      "image/png": "[encoded data removed]",
      "text/plain": [
       "<Figure size 432x288 with 1 Axes>"
      ]
     },
     "metadata": {},
     "output_type": "display_data"
    }
   ],
   "source": [
    "network = netdraw.DrawNN([2,4,1])\n",
    "network.draw()"
   ]
  },
  {
   "cell_type": "markdown",
   "metadata": {},
   "source": [
    "Component of the NN: $$E = -\\frac{1}{2}(y-\\hat{y})^2$$\n",
    "\n",
    "$$\\hat{y} = \\sigma(X) $$\n",
    "\n",
    "where $$  \\sigma (X) =  \\frac{\\mathrm{1} }{\\mathrm{1} + e^{- X} }  $$ \n",
    "\n",
    "$$X = ZB^T $$\n",
    "\n",
    "Z is previous layer"
   ]
  },
  {
   "cell_type": "markdown",
   "metadata": {},
   "source": [
    "Derivative of components:\n",
    "$$\\frac{\\partial E}{\\partial \\hat{y}} = y-\\hat{y}$$\n",
    "\n",
    "$$\\frac{\\partial \\hat{y} }{\\partial X} = \\sigma(X) (1 - \\sigma(X))$$\n",
    "\n",
    "$$\\frac{\\partial X }{\\partial B^T} = Z$$\n",
    "\n",
    "$$\\frac{\\partial X }{\\partial Z} = B^T$$"
   ]
  },
  {
   "cell_type": "markdown",
   "metadata": {},
   "source": [
    "Use the chain rule:\n",
    "    \n",
    "$$\\frac{\\partial E}{\\partial \\hat{y}} \\frac{\\partial \\hat{y} }{\\partial X} \\frac{\\partial X }{\\partial B^T}$$\n",
    "\n",
    "to get:\n",
    "\n",
    "$$\\frac{\\partial E}{\\partial{B^T}}$$\n",
    "\n",
    "or:\n",
    "\n",
    "$$\\frac{\\partial E}{\\partial \\hat{y}} \\frac{\\partial \\hat{y} }{\\partial X} \\frac{\\partial X }{\\partial Z}$$\n",
    "\n",
    "to get:\n",
    "\n",
    "$$\\frac{\\partial E}{\\partial{Z}}$$"
   ]
  },
  {
   "cell_type": "code",
   "execution_count": 9,
   "metadata": {},
   "outputs": [
    {
     "data": {
      "image/png": "[encoded data removed]",
      "text/plain": [
       "<Figure size 432x288 with 1 Axes>"
      ]
     },
     "metadata": {},
     "output_type": "display_data"
    },
    {
     "data": {
      "text/plain": [
       "<sympy.plotting.plot.Plot at 0x7f6a58932860>"
      ]
     },
     "execution_count": 9,
     "metadata": {},
     "output_type": "execute_result"
    }
   ],
   "source": [
    "sig = lambda z: 1 / (1 + np.exp(-z))\n",
    "sig_prime = lambda z: z * (1-z)\n",
    "\n",
    "var('Q')\n",
    "s = lambda Q: 1 / (1 + exp(-Q))\n",
    "plot(s(Q))"
   ]
  },
  {
   "cell_type": "code",
   "execution_count": 10,
   "metadata": {
    "scrolled": true
   },
   "outputs": [
    {
     "name": "stdout",
     "output_type": "stream",
     "text": [
      "[[0.]\n",
      " [1.]\n",
      " [1.]\n",
      " [0.]]\n"
     ]
    }
   ],
   "source": [
    "betas0_1 = np.random.random(size=(2,4)) # randomise my betas to start the algorithim\n",
    "betas1_2 = np.random.random(size=(4,1)) \n",
    "\n",
    "lr = 16 # constant for gradient descent\n",
    "\n",
    "betas = np.zeros((30000,4)) # To track convergence\n",
    "\n",
    "for i in range(30000):\n",
    "    # forward pass of the NN\n",
    "    layer0 = X #  input we use all training data in one pass\n",
    "    layer1 = sig(layer0 @ betas0_1) \n",
    "    layer2 = sig(layer1 @ betas1_2) # y_hat\n",
    "    \n",
    "\n",
    "    # backward pass of NN\n",
    "    layer2_loss = layer2 - Y # output layer loss \n",
    "    layer2_delta = layer2_loss * sig_prime(layer2) # Use derivative calculations and backpropigate \n",
    "    grad1_2 = layer1.T @ layer2_delta # the gradient to descend second betas\n",
    "    \n",
    "    layer1_loss = layer2_delta @ betas1_2.T # backproped error\n",
    "    layer1_delta = layer1_loss * sig_prime(layer1)\n",
    "    grad0_1 = layer0.T @ layer1_delta # the gradient to descend first betas\n",
    "    \n",
    "    betas0_1 = betas0_1 - (lr * grad0_1) # update through descent\n",
    "    betas1_2 = betas1_2 - (lr * grad1_2)\n",
    "    \n",
    "    betas[i,:] = betas1_2.reshape(1,-1)\n",
    "else:\n",
    "    print(np.round(layer2,1))\n",
    "\n",
    "    "
   ]
  },
  {
   "cell_type": "code",
   "execution_count": 11,
   "metadata": {},
   "outputs": [
    {
     "name": "stdout",
     "output_type": "stream",
     "text": [
      "[[0.]]\n"
     ]
    }
   ],
   "source": [
    "# one single training point forward pass\n",
    "layer0_a = X[0,:].reshape(1,-1)\n",
    "layer1_a = sig(layer0_a @ betas0_1)\n",
    "layer2_a = sig(layer1_a @ betas1_2)\n",
    "print(np.round(layer2_a,1))"
   ]
  },
  {
   "cell_type": "code",
   "execution_count": 12,
   "metadata": {
    "scrolled": true
   },
   "outputs": [
    {
     "data": {
      "image/png": "[encoded data removed]",
      "text/plain": [
       "<Figure size 1440x1080 with 4 Axes>"
      ]
     },
     "metadata": {},
     "output_type": "display_data"
    }
   ],
   "source": [
    "#Betas show convergence of gradient descent\n",
    "plt.figure(figsize=(20,15))\n",
    "for i in range(4):\n",
    "    plt.subplot(220+(1+i))\n",
    "    plt.plot(betas[:,i])\n"
   ]
  },
  {
   "cell_type": "code",
   "execution_count": 13,
   "metadata": {},
   "outputs": [],
   "source": [
    "class LayerKind(enum.Enum):\n",
    "    # Python enumeration of our activation functions\n",
    "    \n",
    "    SIGMOID = (sig, sig_prime)\n",
    "    TANH = (np.tanh, lambda z: 1 - z ** 2)\n",
    "    \n",
    "    def __init__(self,fn: Callable, fn_prime: Callable):\n",
    "        self.fn = fn\n",
    "        self.fn_prime = fn_prime\n",
    "        \n",
    "K = LayerKind"
   ]
  },
  {
   "cell_type": "code",
   "execution_count": 14,
   "metadata": {},
   "outputs": [
    {
     "name": "stdout",
     "output_type": "stream",
     "text": [
      "<function LayerKind.<lambda> at 0x7f6a5838b488>\n"
     ]
    }
   ],
   "source": [
    "print(K.TANH.fn_prime)"
   ]
  },
  {
   "cell_type": "code",
   "execution_count": 15,
   "metadata": {},
   "outputs": [],
   "source": [
    "class Layer:\n",
    "    '''The workhorse object\n",
    "       will intiate instances of this for every layer, update and store the betas to use\n",
    "       and calculate error for previous layer'''\n",
    "    def __init__(self,kind: LayerKind, shape: tuple) -> None:\n",
    "        #initalize with shape and function you want to use\n",
    "        \n",
    "        self.fn = kind.fn\n",
    "        self.fn_prime = kind.fn_prime\n",
    "        self.betas = np.random.random(shape) \n",
    "        \n",
    "    def forward(self, layer_input: Tensor) -> Tensor:\n",
    "        # pass forward method\n",
    "        \n",
    "        self.input = layer_input\n",
    "        self.out = self.fn(self.input @ self.betas)\n",
    "        return self.out\n",
    "    \n",
    "    def backward(self, this_layer_loss: Tensor) -> Tensor:\n",
    "        # pass back method updates betas and calcs previous layer error\n",
    "        \n",
    "        error_signal = this_layer_loss * self.fn_prime(self.out)\n",
    "        grad = self.input.T @ error_signal\n",
    "        self.betas = self.betas - 0.8 * grad\n",
    "        prev_layer_loss = error_signal @ self.betas.T\n",
    "        return prev_layer_loss\n",
    "    ''' \n",
    "    self.out: 1Xk\n",
    "    this_layer_loss: 1Xk\n",
    "    error_signal:1Xk\n",
    "    self.betas: nXk\n",
    "    grad: nXk\n",
    "    self.input: 1Xn\n",
    "    prev_layer_loss: 1Xn\n",
    "    \n",
    "    n is number of previous layer nodes\n",
    "    k is number of neurons in this layer\n",
    "    '''\n",
    "        "
   ]
  },
  {
   "cell_type": "code",
   "execution_count": 16,
   "metadata": {
    "scrolled": true
   },
   "outputs": [],
   "source": [
    "class NN:\n",
    "    \"\"\"This class holds all the layers and runs the the fit and predict methods\n",
    "       to train the whole network\"\"\"\n",
    "    def __init__(self,layers: List[Layer]):\n",
    "        self.layers = layers\n",
    "        \n",
    "    def _forward(self, X: Tensor) -> Tensor:\n",
    "        return pipe(X,*(layer.forward for layer in self.layers))\n",
    "        # pipe puts the data through a function in order\n",
    "    \n",
    "    def _backward(self, last_layer_loss: Tensor) -> None:\n",
    "        pipe(last_layer_loss, *(layer.backward for layer in reversed(self.layers)))\n",
    "        # order must be reversed to go backwards\n",
    "        \n",
    "    def fit(self, X: Tensor, Y: Tensor) -> 'NN':\n",
    "        for _ in range(60000):\n",
    "            self._backward(self._forward(X) -Y)\n",
    "        return self\n",
    "    \n",
    "    predict_proba = _forward\n",
    "    \n",
    "    def predict(self, X: Tensor) -> Tensor:\n",
    "        return pipe(X, self.predict_proba, np.round, lambda a: a.astype(int))"
   ]
  },
  {
   "cell_type": "code",
   "execution_count": 17,
   "metadata": {
    "scrolled": true
   },
   "outputs": [
    {
     "data": {
      "text/plain": [
       "array([[0],\n",
       "       [1],\n",
       "       [1],\n",
       "       [0]])"
      ]
     },
     "execution_count": 17,
     "metadata": {},
     "output_type": "execute_result"
    }
   ],
   "source": [
    "XOR = NN(layers=[\n",
    "        Layer(kind=K.SIGMOID,shape=(2,4)),\n",
    "        Layer(kind=K.SIGMOID,shape=(4,1)),\n",
    "]).fit(X,Y)\n",
    "\n",
    "XOR.predict(X)\n"
   ]
  },
  {
   "cell_type": "code",
   "execution_count": 18,
   "metadata": {
    "scrolled": false
   },
   "outputs": [
    {
     "data": {
      "text/plain": [
       "array([[0],\n",
       "       [1],\n",
       "       [1],\n",
       "       [0]])"
      ]
     },
     "execution_count": 18,
     "metadata": {},
     "output_type": "execute_result"
    }
   ],
   "source": [
    "XOR = NN(layers=[\n",
    "        Layer(kind=K.SIGMOID,shape=(2,2)),\n",
    "        Layer(kind=K.SIGMOID,shape=(2,1)),\n",
    "]).fit(X,Y)\n",
    "\n",
    "XOR.predict(X)"
   ]
  },
  {
   "cell_type": "code",
   "execution_count": 19,
   "metadata": {},
   "outputs": [
    {
     "data": {
      "text/plain": [
       "array([[0],\n",
       "       [1],\n",
       "       [1],\n",
       "       [0]])"
      ]
     },
     "execution_count": 19,
     "metadata": {},
     "output_type": "execute_result"
    }
   ],
   "source": [
    "XOR = NN(layers=[\n",
    "        Layer(kind=K.SIGMOID,shape=(2,2)),\n",
    "        Layer(kind=K.TANH,shape=(2,4)),\n",
    "        Layer(kind=K.SIGMOID,shape=(4,1)),\n",
    "]).fit(X,Y)\n",
    "\n",
    "XOR.predict(X)"
   ]
  },
  {
   "cell_type": "code",
   "execution_count": 20,
   "metadata": {},
   "outputs": [],
   "source": [
    "from sklearn.neural_network import MLPClassifier\n",
    "\n",
    "clf = MLPClassifier(solver='lbfgs', alpha=1e-5,\n",
    "                     hidden_layer_sizes=(4,), random_state=1)"
   ]
  },
  {
   "cell_type": "code",
   "execution_count": 21,
   "metadata": {},
   "outputs": [
    {
     "data": {
      "text/plain": [
       "array([0, 1, 1, 0])"
      ]
     },
     "execution_count": 21,
     "metadata": {},
     "output_type": "execute_result"
    }
   ],
   "source": [
    "clf.fit(X, np.ravel(Y))\n",
    "clf.predict(X)"
   ]
  },
  {
   "cell_type": "code",
   "execution_count": 22,
   "metadata": {},
   "outputs": [],
   "source": [
    "#add noise to my data vector\n",
    "X_t =  np.array([[0,0,0], \n",
    "                 [0,0,1],\n",
    "                 [0,1,0],\n",
    "                 [0,1,1],\n",
    "                 [1,0,0],\n",
    "                 [1,0,1],\n",
    "                 [1,1,0],\n",
    "                 [1,1,1]])\n",
    "\n",
    "X_n = np.hstack(( np.vstack((X,X)),X_t))\n",
    "Y_n = np.vstack((Y,Y))"
   ]
  },
  {
   "cell_type": "code",
   "execution_count": 27,
   "metadata": {},
   "outputs": [
    {
     "data": {
      "text/plain": [
       "array([[0],\n",
       "       [1],\n",
       "       [1],\n",
       "       [0],\n",
       "       [0],\n",
       "       [1],\n",
       "       [1],\n",
       "       [0]])"
      ]
     },
     "execution_count": 27,
     "metadata": {},
     "output_type": "execute_result"
    }
   ],
   "source": [
    "Y_n"
   ]
  },
  {
   "cell_type": "code",
   "execution_count": 28,
   "metadata": {
    "scrolled": true
   },
   "outputs": [
    {
     "data": {
      "text/plain": [
       "array([[ True],\n",
       "       [False],\n",
       "       [ True],\n",
       "       [ True],\n",
       "       [ True],\n",
       "       [False],\n",
       "       [ True],\n",
       "       [ True]])"
      ]
     },
     "execution_count": 28,
     "metadata": {},
     "output_type": "execute_result"
    }
   ],
   "source": [
    "XOR_n = NN(layers=[\n",
    "        Layer(kind=K.SIGMOID,shape=(5,2)),\n",
    "        Layer(kind=K.SIGMOID,shape=(2,1)),\n",
    "]).fit(X_n,Y_n)\n",
    "\n",
    "XOR_n.predict(X_n) == Y_n"
   ]
  },
  {
   "cell_type": "code",
   "execution_count": 29,
   "metadata": {},
   "outputs": [
    {
     "data": {
      "text/plain": [
       "array([[ True],\n",
       "       [ True],\n",
       "       [ True],\n",
       "       [ True],\n",
       "       [ True],\n",
       "       [ True],\n",
       "       [ True],\n",
       "       [ True]])"
      ]
     },
     "execution_count": 29,
     "metadata": {},
     "output_type": "execute_result"
    }
   ],
   "source": [
    "# Increase complexity of network to solve\n",
    "XOR_n = NN(layers=[\n",
    "        Layer(kind=K.SIGMOID,shape=(5,10)),\n",
    "        Layer(kind=K.SIGMOID,shape=(10,2)),\n",
    "        Layer(kind=K.SIGMOID,shape=(2,1)),\n",
    "]).fit(X_n,Y_n)\n",
    "\n",
    "XOR_n.predict(X_n) == Y_n"
   ]
  }
 ],
 "metadata": {
  "kernelspec": {
   "display_name": "Python 3",
   "language": "python",
   "name": "python3"
  },
  "language_info": {
   "codemirror_mode": {
    "name": "ipython",
    "version": 3
   },
   "file_extension": ".py",
   "mimetype": "text/x-python",
   "name": "python",
   "nbconvert_exporter": "python",
   "pygments_lexer": "ipython3",
   "version": "3.6.6"
  }
 },
 "nbformat": 4,
 "nbformat_minor": 2
}
